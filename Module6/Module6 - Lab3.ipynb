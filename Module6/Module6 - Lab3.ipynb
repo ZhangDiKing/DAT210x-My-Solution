{
 "cells": [
  {
   "cell_type": "markdown",
   "metadata": {
    "deletable": true,
    "editable": true
   },
   "source": [
    "# DAT210x - Programming with Python for DS"
   ]
  },
  {
   "cell_type": "markdown",
   "metadata": {
    "deletable": true,
    "editable": true
   },
   "source": [
    "## Module6- Lab3"
   ]
  },
  {
   "cell_type": "markdown",
   "metadata": {
    "deletable": true,
    "editable": true
   },
   "source": [
    "This code is intentionally missing! Read the directions on the course lab page!"
   ]
  },
  {
   "cell_type": "code",
   "execution_count": 28,
   "metadata": {
    "collapsed": true
   },
   "outputs": [],
   "source": [
    "import matplotlib.pyplot as plt\n",
    "from sklearn.model_selection import train_test_split\n",
    "from sklearn.svm import SVC\n",
    "from sklearn import preprocessing\n",
    "from sklearn.decomposition import PCA \n",
    "from sklearn import manifold\n",
    "import pandas as pd\n",
    "import numpy as np "
   ]
  },
  {
   "cell_type": "code",
   "execution_count": 5,
   "metadata": {
    "collapsed": false,
    "deletable": true,
    "editable": true
   },
   "outputs": [
    {
     "data": {
      "text/plain": [
       "MDVP:Fo(Hz)         float64\n",
       "MDVP:Fhi(Hz)        float64\n",
       "MDVP:Flo(Hz)        float64\n",
       "MDVP:Jitter(%)      float64\n",
       "MDVP:Jitter(Abs)    float64\n",
       "MDVP:RAP            float64\n",
       "MDVP:PPQ            float64\n",
       "Jitter:DDP          float64\n",
       "MDVP:Shimmer        float64\n",
       "MDVP:Shimmer(dB)    float64\n",
       "Shimmer:APQ3        float64\n",
       "Shimmer:APQ5        float64\n",
       "MDVP:APQ            float64\n",
       "Shimmer:DDA         float64\n",
       "NHR                 float64\n",
       "HNR                 float64\n",
       "status                int64\n",
       "RPDE                float64\n",
       "DFA                 float64\n",
       "spread1             float64\n",
       "spread2             float64\n",
       "D2                  float64\n",
       "PPE                 float64\n",
       "dtype: object"
      ]
     },
     "execution_count": 5,
     "metadata": {},
     "output_type": "execute_result"
    }
   ],
   "source": [
    "#load data\n",
    "path='Datasets/parkinsons.data'\n",
    "X=pd.read_csv(path)\n",
    "X.drop(['name'], axis=1, inplace=True)\n",
    "X.dtypes"
   ]
  },
  {
   "cell_type": "code",
   "execution_count": 6,
   "metadata": {
    "collapsed": true
   },
   "outputs": [],
   "source": [
    "y=X.status\n",
    "X.drop(['status'],axis=1, inplace=True)"
   ]
  },
  {
   "cell_type": "code",
   "execution_count": 25,
   "metadata": {
    "collapsed": true
   },
   "outputs": [],
   "source": [
    "X_train, X_test, y_train, y_test = train_test_split(X,y, test_size=0.3, random_state=7)"
   ]
  },
  {
   "cell_type": "code",
   "execution_count": 26,
   "metadata": {
    "collapsed": false
   },
   "outputs": [],
   "source": [
    "# .. your code here ..\n",
    "#pp = preprocessing.MaxAbsScaler().fit(data_train)  #acc 0.962857142857\n",
    "#pp = preprocessing.MinMaxScaler().fit(data_train)  #acc 0.965714285714\n",
    "pp = preprocessing.StandardScaler().fit(X_train)  #acc 0.962857142857\n",
    "#pp = preprocessing.Normalizer().fit(data_train)  #acc 0.857142857143\n",
    "#pp = preprocessing.RobustScaler().fit(data_train)  #acc 0.957142857143\n",
    "X_train=pp.transform(X_train)\n",
    "X_test=pp.transform(X_test)"
   ]
  },
  {
   "cell_type": "code",
   "execution_count": null,
   "metadata": {
    "collapsed": true
   },
   "outputs": [],
   "source": [
    "svc=SVC()\n",
    "svc.fit(X_train, y_train)\n",
    "print(svc.score(X_test, y_test))"
   ]
  },
  {
   "cell_type": "code",
   "execution_count": 20,
   "metadata": {
    "collapsed": false
   },
   "outputs": [
    {
     "name": "stdout",
     "output_type": "stream",
     "text": [
      "0.932203389831\n"
     ]
    }
   ],
   "source": [
    "k='rbf'\n",
    "best_score=0\n",
    "for c in np.arange(start = 0.05, stop = 2.05, step = 0.05):\n",
    "    for g in np.arange(start = 0.001, stop = 0.101, step = 0.001):\n",
    "        svc=SVC(C=c,kernel=k,gamma=g)\n",
    "        svc.fit(X_train, y_train)\n",
    "        score=svc.score(X_test, y_test)\n",
    "        if score>best_score:\n",
    "            best_score=score        \n",
    "print(best_score)        "
   ]
  },
  {
   "cell_type": "code",
   "execution_count": 31,
   "metadata": {
    "collapsed": false
   },
   "outputs": [
    {
     "name": "stdout",
     "output_type": "stream",
     "text": [
      "0.932203389831\n"
     ]
    }
   ],
   "source": [
    "#pca experiment\n",
    "k='rbf'\n",
    "best_score=0\n",
    "for n in range(4,15):\n",
    "    pca = PCA(n_components = n)\n",
    "    pca.fit(X_train)\n",
    "    X_train_pca=pca.transform(X_train)\n",
    "    X_test_pca=pca.transform(X_test)\n",
    "    for c in np.arange(start = 0.05, stop = 2.05, step = 0.05):\n",
    "        for g in np.arange(start = 0.001, stop = 0.101, step = 0.001):\n",
    "            svc=SVC(C=c,kernel=k,gamma=g)\n",
    "            svc.fit(X_train_pca, y_train)\n",
    "            score=svc.score(X_test_pca, y_test)\n",
    "            if score>best_score:\n",
    "                best_score=score        \n",
    "print(best_score)"
   ]
  },
  {
   "cell_type": "code",
   "execution_count": 32,
   "metadata": {
    "collapsed": false
   },
   "outputs": [
    {
     "name": "stdout",
     "output_type": "stream",
     "text": [
      "0.966101694915\n"
     ]
    }
   ],
   "source": [
    "#isomap experiment\n",
    "k='rbf'\n",
    "best_score=0\n",
    "for n_n in range(2,6):\n",
    "    for n_c in range(4,7):\n",
    "        iso = manifold.Isomap(n_neighbors=n_n, n_components=n_c)\n",
    "        iso.fit(X_train)\n",
    "        X_train_iso=iso.transform(X_train)\n",
    "        X_test_iso=iso.transform(X_test)\n",
    "        '''\n",
    "        for c in np.arange(start = 0.05, stop = 2.05, step = 0.05):\n",
    "            for g in np.arange(start = 0.001, stop = 0.101, step = 0.001):\n",
    "                svc=SVC(C=c,kernel=k,gamma=g)\n",
    "                svc.fit(X_train_iso, y_train)\n",
    "                score=svc.score(X_test_iso, y_test)\n",
    "                if score>best_score:\n",
    "                    best_score=score\n",
    "        '''\n",
    "        svc=SVC()\n",
    "        svc.fit(X_train_iso, y_train)\n",
    "        score=svc.score(X_test_iso, y_test)\n",
    "        if score>best_score:\n",
    "            best_score=score\n",
    "#what is really interesting is that is nono of the parameter is used in SVC, we still have the best accuracy for the problem\n",
    "print(best_score)"
   ]
  },
  {
   "cell_type": "code",
   "execution_count": null,
   "metadata": {
    "collapsed": true
   },
   "outputs": [],
   "source": []
  }
 ],
 "metadata": {
  "anaconda-cloud": {},
  "kernelspec": {
   "display_name": "Python 3",
   "language": "python",
   "name": "python3"
  },
  "language_info": {
   "codemirror_mode": {
    "name": "ipython",
    "version": 3
   },
   "file_extension": ".py",
   "mimetype": "text/x-python",
   "name": "python",
   "nbconvert_exporter": "python",
   "pygments_lexer": "ipython3",
   "version": "3.5.2"
  },
  "toc": {
   "colors": {
    "hover_highlight": "#DAA520",
    "running_highlight": "#FF0000",
    "selected_highlight": "#FFD700"
   },
   "moveMenuLeft": true,
   "nav_menu": {
    "height": "58px",
    "width": "252px"
   },
   "navigate_menu": true,
   "number_sections": true,
   "sideBar": true,
   "threshold": 4,
   "toc_cell": false,
   "toc_section_display": "block",
   "toc_window_display": false,
   "widenNotebook": false
  }
 },
 "nbformat": 4,
 "nbformat_minor": 2
}
